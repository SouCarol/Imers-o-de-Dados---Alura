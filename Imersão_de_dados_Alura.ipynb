{
  "nbformat": 4,
  "nbformat_minor": 0,
  "metadata": {
    "colab": {
      "name": "Imersão de dados - Alura.ipynb",
      "provenance": [],
      "toc_visible": true
    },
    "kernelspec": {
      "name": "python3",
      "display_name": "Python 3"
    }
  },
  "cells": [
    {
      "cell_type": "markdown",
      "metadata": {
        "id": "HZz9CK2V4t7-"
      },
      "source": [
        "# Importando fonte de dados"
      ]
    },
    {
      "cell_type": "code",
      "metadata": {
        "id": "wN7nVcxqsKQl",
        "outputId": "933c08a5-be45-4734-f11c-26e2955e4ad0",
        "colab": {
          "base_uri": "https://localhost:8080/",
          "height": 244
        }
      },
      "source": [
        "import pandas as pd\n",
        "\n",
        "fonte = \"https://github.com/alura-cursos/imersao-dados-2-2020/blob/master/MICRODADOS_ENEM_2019_SAMPLE_43278.csv?raw=true\"\n",
        "\n",
        "dados = pd.read_csv(fonte)\n",
        "dados.head()"
      ],
      "execution_count": 124,
      "outputs": [
        {
          "output_type": "execute_result",
          "data": {
            "text/html": [
              "<div>\n",
              "<style scoped>\n",
              "    .dataframe tbody tr th:only-of-type {\n",
              "        vertical-align: middle;\n",
              "    }\n",
              "\n",
              "    .dataframe tbody tr th {\n",
              "        vertical-align: top;\n",
              "    }\n",
              "\n",
              "    .dataframe thead th {\n",
              "        text-align: right;\n",
              "    }\n",
              "</style>\n",
              "<table border=\"1\" class=\"dataframe\">\n",
              "  <thead>\n",
              "    <tr style=\"text-align: right;\">\n",
              "      <th></th>\n",
              "      <th>NU_INSCRICAO</th>\n",
              "      <th>NU_ANO</th>\n",
              "      <th>CO_MUNICIPIO_RESIDENCIA</th>\n",
              "      <th>NO_MUNICIPIO_RESIDENCIA</th>\n",
              "      <th>CO_UF_RESIDENCIA</th>\n",
              "      <th>SG_UF_RESIDENCIA</th>\n",
              "      <th>NU_IDADE</th>\n",
              "      <th>TP_SEXO</th>\n",
              "      <th>TP_ESTADO_CIVIL</th>\n",
              "      <th>TP_COR_RACA</th>\n",
              "      <th>TP_NACIONALIDADE</th>\n",
              "      <th>CO_MUNICIPIO_NASCIMENTO</th>\n",
              "      <th>NO_MUNICIPIO_NASCIMENTO</th>\n",
              "      <th>CO_UF_NASCIMENTO</th>\n",
              "      <th>SG_UF_NASCIMENTO</th>\n",
              "      <th>TP_ST_CONCLUSAO</th>\n",
              "      <th>TP_ANO_CONCLUIU</th>\n",
              "      <th>TP_ESCOLA</th>\n",
              "      <th>TP_ENSINO</th>\n",
              "      <th>IN_TREINEIRO</th>\n",
              "      <th>CO_ESCOLA</th>\n",
              "      <th>CO_MUNICIPIO_ESC</th>\n",
              "      <th>NO_MUNICIPIO_ESC</th>\n",
              "      <th>CO_UF_ESC</th>\n",
              "      <th>SG_UF_ESC</th>\n",
              "      <th>TP_DEPENDENCIA_ADM_ESC</th>\n",
              "      <th>TP_LOCALIZACAO_ESC</th>\n",
              "      <th>TP_SIT_FUNC_ESC</th>\n",
              "      <th>IN_BAIXA_VISAO</th>\n",
              "      <th>IN_CEGUEIRA</th>\n",
              "      <th>IN_SURDEZ</th>\n",
              "      <th>IN_DEFICIENCIA_AUDITIVA</th>\n",
              "      <th>IN_SURDO_CEGUEIRA</th>\n",
              "      <th>IN_DEFICIENCIA_FISICA</th>\n",
              "      <th>IN_DEFICIENCIA_MENTAL</th>\n",
              "      <th>IN_DEFICIT_ATENCAO</th>\n",
              "      <th>IN_DISLEXIA</th>\n",
              "      <th>IN_DISCALCULIA</th>\n",
              "      <th>IN_AUTISMO</th>\n",
              "      <th>IN_VISAO_MONOCULAR</th>\n",
              "      <th>...</th>\n",
              "      <th>TX_RESPOSTAS_CH</th>\n",
              "      <th>TX_RESPOSTAS_LC</th>\n",
              "      <th>TX_RESPOSTAS_MT</th>\n",
              "      <th>TP_LINGUA</th>\n",
              "      <th>TX_GABARITO_CN</th>\n",
              "      <th>TX_GABARITO_CH</th>\n",
              "      <th>TX_GABARITO_LC</th>\n",
              "      <th>TX_GABARITO_MT</th>\n",
              "      <th>TP_STATUS_REDACAO</th>\n",
              "      <th>NU_NOTA_COMP1</th>\n",
              "      <th>NU_NOTA_COMP2</th>\n",
              "      <th>NU_NOTA_COMP3</th>\n",
              "      <th>NU_NOTA_COMP4</th>\n",
              "      <th>NU_NOTA_COMP5</th>\n",
              "      <th>NU_NOTA_REDACAO</th>\n",
              "      <th>Q001</th>\n",
              "      <th>Q002</th>\n",
              "      <th>Q003</th>\n",
              "      <th>Q004</th>\n",
              "      <th>Q005</th>\n",
              "      <th>Q006</th>\n",
              "      <th>Q007</th>\n",
              "      <th>Q008</th>\n",
              "      <th>Q009</th>\n",
              "      <th>Q010</th>\n",
              "      <th>Q011</th>\n",
              "      <th>Q012</th>\n",
              "      <th>Q013</th>\n",
              "      <th>Q014</th>\n",
              "      <th>Q015</th>\n",
              "      <th>Q016</th>\n",
              "      <th>Q017</th>\n",
              "      <th>Q018</th>\n",
              "      <th>Q019</th>\n",
              "      <th>Q020</th>\n",
              "      <th>Q021</th>\n",
              "      <th>Q022</th>\n",
              "      <th>Q023</th>\n",
              "      <th>Q024</th>\n",
              "      <th>Q025</th>\n",
              "    </tr>\n",
              "  </thead>\n",
              "  <tbody>\n",
              "    <tr>\n",
              "      <th>0</th>\n",
              "      <td>190001004661</td>\n",
              "      <td>2019</td>\n",
              "      <td>1506138</td>\n",
              "      <td>Redenção</td>\n",
              "      <td>15</td>\n",
              "      <td>PA</td>\n",
              "      <td>17</td>\n",
              "      <td>M</td>\n",
              "      <td>1</td>\n",
              "      <td>3</td>\n",
              "      <td>1</td>\n",
              "      <td>1506138.0</td>\n",
              "      <td>Redenção</td>\n",
              "      <td>15.0</td>\n",
              "      <td>PA</td>\n",
              "      <td>3</td>\n",
              "      <td>0</td>\n",
              "      <td>1</td>\n",
              "      <td>NaN</td>\n",
              "      <td>1</td>\n",
              "      <td>NaN</td>\n",
              "      <td>NaN</td>\n",
              "      <td>NaN</td>\n",
              "      <td>NaN</td>\n",
              "      <td>NaN</td>\n",
              "      <td>NaN</td>\n",
              "      <td>NaN</td>\n",
              "      <td>NaN</td>\n",
              "      <td>0</td>\n",
              "      <td>0</td>\n",
              "      <td>0</td>\n",
              "      <td>0</td>\n",
              "      <td>0</td>\n",
              "      <td>0</td>\n",
              "      <td>0</td>\n",
              "      <td>0</td>\n",
              "      <td>0</td>\n",
              "      <td>0</td>\n",
              "      <td>0</td>\n",
              "      <td>0</td>\n",
              "      <td>...</td>\n",
              "      <td>ACAEAAACABEBABAADCEEEDE*CBDCCCADADCCCBEBBBBDB</td>\n",
              "      <td>99999CCCABBCAADDBCEBCCADBEEBDECBAABDEACACAEABB...</td>\n",
              "      <td>DEEDCAECDDEEECBCBECABEBAECBBCDAECAEBBBBBDCCDB</td>\n",
              "      <td>1</td>\n",
              "      <td>DEADBAAAEBEECEBCBCBCBDADAEABCEDDDDADCBEECACBC</td>\n",
              "      <td>ACACEEBCCBABADBBBACDBBACCCCADCEBADCBEEDBBEADB</td>\n",
              "      <td>EBBADCABDABACBCEBDEEAAADDBECDECDDBADBCDAAECBCC...</td>\n",
              "      <td>AADDDBEEEBEDDBEBACABCDBABECECACAECDCBDCCEDCDA</td>\n",
              "      <td>1.0</td>\n",
              "      <td>60.0</td>\n",
              "      <td>100.0</td>\n",
              "      <td>80.0</td>\n",
              "      <td>80.0</td>\n",
              "      <td>100.0</td>\n",
              "      <td>420.0</td>\n",
              "      <td>B</td>\n",
              "      <td>B</td>\n",
              "      <td>A</td>\n",
              "      <td>A</td>\n",
              "      <td>4</td>\n",
              "      <td>B</td>\n",
              "      <td>A</td>\n",
              "      <td>C</td>\n",
              "      <td>B</td>\n",
              "      <td>A</td>\n",
              "      <td>C</td>\n",
              "      <td>B</td>\n",
              "      <td>A</td>\n",
              "      <td>A</td>\n",
              "      <td>A</td>\n",
              "      <td>A</td>\n",
              "      <td>A</td>\n",
              "      <td>A</td>\n",
              "      <td>A</td>\n",
              "      <td>B</td>\n",
              "      <td>A</td>\n",
              "      <td>C</td>\n",
              "      <td>A</td>\n",
              "      <td>B</td>\n",
              "      <td>B</td>\n",
              "    </tr>\n",
              "    <tr>\n",
              "      <th>1</th>\n",
              "      <td>190001004674</td>\n",
              "      <td>2019</td>\n",
              "      <td>1504208</td>\n",
              "      <td>Marabá</td>\n",
              "      <td>15</td>\n",
              "      <td>PA</td>\n",
              "      <td>23</td>\n",
              "      <td>M</td>\n",
              "      <td>1</td>\n",
              "      <td>3</td>\n",
              "      <td>1</td>\n",
              "      <td>1504208.0</td>\n",
              "      <td>Marabá</td>\n",
              "      <td>15.0</td>\n",
              "      <td>PA</td>\n",
              "      <td>1</td>\n",
              "      <td>3</td>\n",
              "      <td>1</td>\n",
              "      <td>1.0</td>\n",
              "      <td>0</td>\n",
              "      <td>NaN</td>\n",
              "      <td>NaN</td>\n",
              "      <td>NaN</td>\n",
              "      <td>NaN</td>\n",
              "      <td>NaN</td>\n",
              "      <td>NaN</td>\n",
              "      <td>NaN</td>\n",
              "      <td>NaN</td>\n",
              "      <td>0</td>\n",
              "      <td>0</td>\n",
              "      <td>0</td>\n",
              "      <td>0</td>\n",
              "      <td>0</td>\n",
              "      <td>0</td>\n",
              "      <td>0</td>\n",
              "      <td>0</td>\n",
              "      <td>0</td>\n",
              "      <td>0</td>\n",
              "      <td>0</td>\n",
              "      <td>0</td>\n",
              "      <td>...</td>\n",
              "      <td>ABBCEADCEBAAACACEDCDCDACCCACDCBCABCAACBDBDEDE</td>\n",
              "      <td>99999ABCEBCEDDECEEEBBCCEECCABDABEEBCDEAEBBEAEA...</td>\n",
              "      <td>NaN</td>\n",
              "      <td>1</td>\n",
              "      <td>NaN</td>\n",
              "      <td>CBABADBBCEEEBCBADCBEEDBBEADBBACDBBACCCCADACAC</td>\n",
              "      <td>BBEDABDACACBABAECBBCCADCEBDBBCDDEEAAADDBECDECA...</td>\n",
              "      <td>NaN</td>\n",
              "      <td>1.0</td>\n",
              "      <td>80.0</td>\n",
              "      <td>100.0</td>\n",
              "      <td>80.0</td>\n",
              "      <td>80.0</td>\n",
              "      <td>60.0</td>\n",
              "      <td>400.0</td>\n",
              "      <td>C</td>\n",
              "      <td>C</td>\n",
              "      <td>A</td>\n",
              "      <td>A</td>\n",
              "      <td>4</td>\n",
              "      <td>B</td>\n",
              "      <td>A</td>\n",
              "      <td>B</td>\n",
              "      <td>C</td>\n",
              "      <td>A</td>\n",
              "      <td>A</td>\n",
              "      <td>B</td>\n",
              "      <td>B</td>\n",
              "      <td>B</td>\n",
              "      <td>A</td>\n",
              "      <td>A</td>\n",
              "      <td>A</td>\n",
              "      <td>A</td>\n",
              "      <td>B</td>\n",
              "      <td>A</td>\n",
              "      <td>A</td>\n",
              "      <td>B</td>\n",
              "      <td>A</td>\n",
              "      <td>A</td>\n",
              "      <td>B</td>\n",
              "    </tr>\n",
              "    <tr>\n",
              "      <th>2</th>\n",
              "      <td>190001004722</td>\n",
              "      <td>2019</td>\n",
              "      <td>1501402</td>\n",
              "      <td>Belém</td>\n",
              "      <td>15</td>\n",
              "      <td>PA</td>\n",
              "      <td>35</td>\n",
              "      <td>F</td>\n",
              "      <td>2</td>\n",
              "      <td>1</td>\n",
              "      <td>1</td>\n",
              "      <td>1501402.0</td>\n",
              "      <td>Belém</td>\n",
              "      <td>15.0</td>\n",
              "      <td>PA</td>\n",
              "      <td>1</td>\n",
              "      <td>12</td>\n",
              "      <td>1</td>\n",
              "      <td>1.0</td>\n",
              "      <td>0</td>\n",
              "      <td>NaN</td>\n",
              "      <td>NaN</td>\n",
              "      <td>NaN</td>\n",
              "      <td>NaN</td>\n",
              "      <td>NaN</td>\n",
              "      <td>NaN</td>\n",
              "      <td>NaN</td>\n",
              "      <td>NaN</td>\n",
              "      <td>0</td>\n",
              "      <td>0</td>\n",
              "      <td>0</td>\n",
              "      <td>0</td>\n",
              "      <td>0</td>\n",
              "      <td>0</td>\n",
              "      <td>0</td>\n",
              "      <td>0</td>\n",
              "      <td>0</td>\n",
              "      <td>0</td>\n",
              "      <td>0</td>\n",
              "      <td>0</td>\n",
              "      <td>...</td>\n",
              "      <td>CDCAACCAAADEACBBEBAAEECDABDEBAEAABEDCABABAABC</td>\n",
              "      <td>99999ECBCECEBBABECCCECECCEECCDECEEEDADDDDECEDD...</td>\n",
              "      <td>DDBEADEBBCADCEEACABECBCEBADECADCEDAACBDABABCE</td>\n",
              "      <td>1</td>\n",
              "      <td>AAECACDEADCBCDDDBCBDADAEABCEBABEEBCBEECEBDADC</td>\n",
              "      <td>CBABADBBCEEEBCBADCBEEDBBEADBBACDBBACCCCADACAC</td>\n",
              "      <td>BBEDABDACACBABAECBBCCADCEBDBBCDDEEAAADDBECDECA...</td>\n",
              "      <td>EEEADBEBACABCDBABECECACDCBDCCEDCDABEDECDDDBAA</td>\n",
              "      <td>1.0</td>\n",
              "      <td>100.0</td>\n",
              "      <td>120.0</td>\n",
              "      <td>120.0</td>\n",
              "      <td>100.0</td>\n",
              "      <td>120.0</td>\n",
              "      <td>560.0</td>\n",
              "      <td>C</td>\n",
              "      <td>A</td>\n",
              "      <td>B</td>\n",
              "      <td>B</td>\n",
              "      <td>5</td>\n",
              "      <td>C</td>\n",
              "      <td>A</td>\n",
              "      <td>B</td>\n",
              "      <td>C</td>\n",
              "      <td>A</td>\n",
              "      <td>A</td>\n",
              "      <td>B</td>\n",
              "      <td>A</td>\n",
              "      <td>B</td>\n",
              "      <td>A</td>\n",
              "      <td>A</td>\n",
              "      <td>A</td>\n",
              "      <td>A</td>\n",
              "      <td>B</td>\n",
              "      <td>A</td>\n",
              "      <td>B</td>\n",
              "      <td>B</td>\n",
              "      <td>A</td>\n",
              "      <td>A</td>\n",
              "      <td>B</td>\n",
              "    </tr>\n",
              "    <tr>\n",
              "      <th>3</th>\n",
              "      <td>190001004735</td>\n",
              "      <td>2019</td>\n",
              "      <td>1507300</td>\n",
              "      <td>São Félix do Xingu</td>\n",
              "      <td>15</td>\n",
              "      <td>PA</td>\n",
              "      <td>23</td>\n",
              "      <td>F</td>\n",
              "      <td>1</td>\n",
              "      <td>3</td>\n",
              "      <td>1</td>\n",
              "      <td>1505437.0</td>\n",
              "      <td>Ourilândia do Norte</td>\n",
              "      <td>15.0</td>\n",
              "      <td>PA</td>\n",
              "      <td>1</td>\n",
              "      <td>7</td>\n",
              "      <td>1</td>\n",
              "      <td>NaN</td>\n",
              "      <td>0</td>\n",
              "      <td>NaN</td>\n",
              "      <td>NaN</td>\n",
              "      <td>NaN</td>\n",
              "      <td>NaN</td>\n",
              "      <td>NaN</td>\n",
              "      <td>NaN</td>\n",
              "      <td>NaN</td>\n",
              "      <td>NaN</td>\n",
              "      <td>0</td>\n",
              "      <td>0</td>\n",
              "      <td>0</td>\n",
              "      <td>0</td>\n",
              "      <td>0</td>\n",
              "      <td>0</td>\n",
              "      <td>0</td>\n",
              "      <td>0</td>\n",
              "      <td>0</td>\n",
              "      <td>0</td>\n",
              "      <td>0</td>\n",
              "      <td>0</td>\n",
              "      <td>...</td>\n",
              "      <td>EECCCEDBADBEAAAAEBAECEAAAAEEEBACCAC*CEAEDAECE</td>\n",
              "      <td>99999BABCDABBCBDDAAECADBDDADDCBCEEDCAEBCEAEABD...</td>\n",
              "      <td>CBDEBBCBDEBCABCDBDEDADCCBEDBCAECEBEBDEBAEECBC</td>\n",
              "      <td>1</td>\n",
              "      <td>BEEAAEBEEBADEADDADAEABCEDDDBCBCBCCACBCDADCCEB</td>\n",
              "      <td>EEBCEEDBADBBCBABCCADCEBACDBBACCACACBEADBBADCB</td>\n",
              "      <td>ADBBEDCABAABBCBCDAAECDDDBAAAECADECDCEBDEEAECBD...</td>\n",
              "      <td>BEDEEEAADBEBACABCDBABECECACADCBDCCEDCDABECDDD</td>\n",
              "      <td>1.0</td>\n",
              "      <td>100.0</td>\n",
              "      <td>120.0</td>\n",
              "      <td>120.0</td>\n",
              "      <td>120.0</td>\n",
              "      <td>40.0</td>\n",
              "      <td>500.0</td>\n",
              "      <td>E</td>\n",
              "      <td>C</td>\n",
              "      <td>A</td>\n",
              "      <td>A</td>\n",
              "      <td>1</td>\n",
              "      <td>B</td>\n",
              "      <td>A</td>\n",
              "      <td>B</td>\n",
              "      <td>C</td>\n",
              "      <td>A</td>\n",
              "      <td>A</td>\n",
              "      <td>B</td>\n",
              "      <td>A</td>\n",
              "      <td>A</td>\n",
              "      <td>A</td>\n",
              "      <td>A</td>\n",
              "      <td>A</td>\n",
              "      <td>A</td>\n",
              "      <td>B</td>\n",
              "      <td>A</td>\n",
              "      <td>A</td>\n",
              "      <td>B</td>\n",
              "      <td>A</td>\n",
              "      <td>A</td>\n",
              "      <td>B</td>\n",
              "    </tr>\n",
              "    <tr>\n",
              "      <th>4</th>\n",
              "      <td>190001004776</td>\n",
              "      <td>2019</td>\n",
              "      <td>1500800</td>\n",
              "      <td>Ananindeua</td>\n",
              "      <td>15</td>\n",
              "      <td>PA</td>\n",
              "      <td>16</td>\n",
              "      <td>F</td>\n",
              "      <td>1</td>\n",
              "      <td>3</td>\n",
              "      <td>1</td>\n",
              "      <td>1500800.0</td>\n",
              "      <td>Ananindeua</td>\n",
              "      <td>15.0</td>\n",
              "      <td>PA</td>\n",
              "      <td>3</td>\n",
              "      <td>0</td>\n",
              "      <td>1</td>\n",
              "      <td>NaN</td>\n",
              "      <td>1</td>\n",
              "      <td>NaN</td>\n",
              "      <td>NaN</td>\n",
              "      <td>NaN</td>\n",
              "      <td>NaN</td>\n",
              "      <td>NaN</td>\n",
              "      <td>NaN</td>\n",
              "      <td>NaN</td>\n",
              "      <td>NaN</td>\n",
              "      <td>0</td>\n",
              "      <td>0</td>\n",
              "      <td>0</td>\n",
              "      <td>0</td>\n",
              "      <td>0</td>\n",
              "      <td>0</td>\n",
              "      <td>0</td>\n",
              "      <td>0</td>\n",
              "      <td>0</td>\n",
              "      <td>0</td>\n",
              "      <td>0</td>\n",
              "      <td>0</td>\n",
              "      <td>...</td>\n",
              "      <td>CCBCBEACABACABBBBACCBCEBDCBABCADADCBCADBAADEA</td>\n",
              "      <td>EBCAB99999BBCECBCACBEACBDAABDBCBBDACEBBACDCAEC...</td>\n",
              "      <td>AECCBBCBBCBDEDECACBAABEDABBEDDADCEADDBEBDBBEB</td>\n",
              "      <td>0</td>\n",
              "      <td>DEADBAAAEBEECEBCBCBCBDADAEABCEDDDDADCBEECACBC</td>\n",
              "      <td>ACACEEBCCBABADBBBACDBBACCCCADCEBADCBEEDBBEADB</td>\n",
              "      <td>EBBADCABDABACBCEBDEEAAADDBECDECDDBADBCDAAECBCC...</td>\n",
              "      <td>AADDDBEEEBEDDBEBACABCDBABECECACAECDCBDCCEDCDA</td>\n",
              "      <td>1.0</td>\n",
              "      <td>160.0</td>\n",
              "      <td>140.0</td>\n",
              "      <td>160.0</td>\n",
              "      <td>160.0</td>\n",
              "      <td>160.0</td>\n",
              "      <td>780.0</td>\n",
              "      <td>E</td>\n",
              "      <td>E</td>\n",
              "      <td>B</td>\n",
              "      <td>D</td>\n",
              "      <td>3</td>\n",
              "      <td>E</td>\n",
              "      <td>A</td>\n",
              "      <td>B</td>\n",
              "      <td>C</td>\n",
              "      <td>B</td>\n",
              "      <td>A</td>\n",
              "      <td>B</td>\n",
              "      <td>A</td>\n",
              "      <td>A</td>\n",
              "      <td>A</td>\n",
              "      <td>A</td>\n",
              "      <td>A</td>\n",
              "      <td>A</td>\n",
              "      <td>B</td>\n",
              "      <td>A</td>\n",
              "      <td>A</td>\n",
              "      <td>D</td>\n",
              "      <td>A</td>\n",
              "      <td>A</td>\n",
              "      <td>B</td>\n",
              "    </tr>\n",
              "  </tbody>\n",
              "</table>\n",
              "<p>5 rows × 136 columns</p>\n",
              "</div>"
            ],
            "text/plain": [
              "   NU_INSCRICAO  NU_ANO  CO_MUNICIPIO_RESIDENCIA  ... Q023  Q024 Q025\n",
              "0  190001004661    2019                  1506138  ...    A     B    B\n",
              "1  190001004674    2019                  1504208  ...    A     A    B\n",
              "2  190001004722    2019                  1501402  ...    A     A    B\n",
              "3  190001004735    2019                  1507300  ...    A     A    B\n",
              "4  190001004776    2019                  1500800  ...    A     A    B\n",
              "\n",
              "[5 rows x 136 columns]"
            ]
          },
          "metadata": {
            "tags": []
          },
          "execution_count": 124
        }
      ]
    },
    {
      "cell_type": "markdown",
      "metadata": {
        "id": "mRN2srYXAI_j"
      },
      "source": [
        "\n",
        "\n",
        "---\n",
        "\n"
      ]
    },
    {
      "cell_type": "markdown",
      "metadata": {
        "id": "NisR8WDb455y"
      },
      "source": [
        "# Desafios da Aula 1:"
      ]
    },
    {
      "cell_type": "markdown",
      "metadata": {
        "id": "J4x84LbmJBbt"
      },
      "source": [
        "Desafio 01: Proporção (%) dos inscritos por idade\n",
        "\n",
        "Desafio 02: Descobrir de quais Estados são os inscritos com 13 anos\n",
        "\n",
        "Desafio 03: Adicionar título no histograma\n",
        "\n",
        "Desafio 04: Plotar Histogramas das idades dos treineiros e não treineiros\n"
      ]
    },
    {
      "cell_type": "markdown",
      "metadata": {
        "id": "DMcdKdrOAK3c"
      },
      "source": [
        "\n",
        "\n",
        "---\n",
        "\n"
      ]
    },
    {
      "cell_type": "markdown",
      "metadata": {
        "id": "RUmhIiwj_0Wy"
      },
      "source": [
        "# Respostas:"
      ]
    },
    {
      "cell_type": "markdown",
      "metadata": {
        "id": "MY1YWIJUSC42"
      },
      "source": [
        "## Desafio 01: Proporção (%) dos inscritos por idade\n"
      ]
    },
    {
      "cell_type": "code",
      "metadata": {
        "id": "DoLZ5Zlu5XXs",
        "outputId": "3de973e4-0d54-4ebe-ee79-7b512eb477e0",
        "colab": {
          "base_uri": "https://localhost:8080/",
          "height": 218
        }
      },
      "source": [
        "qnt_tt_dados=len(dados) # Isso gera uma quantidade de linhas, ou seja, a quantidade total de dados.\n",
        "col_idade_qnt=dados[\"NU_IDADE\"].value_counts() #Isso gera uma coluna/série. O index será a idade.\n",
        "perc=col_idade_qnt / qnt_tt_dados #Isso gera o percentual\n",
        "perc"
      ],
      "execution_count": 157,
      "outputs": [
        {
          "output_type": "execute_result",
          "data": {
            "text/plain": [
              "18    0.168409\n",
              "17    0.166871\n",
              "19    0.113189\n",
              "20    0.081748\n",
              "16    0.061470\n",
              "        ...   \n",
              "75    0.000016\n",
              "73    0.000016\n",
              "82    0.000008\n",
              "77    0.000008\n",
              "76    0.000008\n",
              "Name: NU_IDADE, Length: 65, dtype: float64"
            ]
          },
          "metadata": {
            "tags": []
          },
          "execution_count": 157
        }
      ]
    },
    {
      "cell_type": "markdown",
      "metadata": {
        "id": "M2D8G8VQ_8jf"
      },
      "source": [
        "## Desafio 02: Descobrir de quais Estados são os inscritos com 13 anos:"
      ]
    },
    {
      "cell_type": "code",
      "metadata": {
        "id": "u5yR5Mqp5fBW",
        "outputId": "1a43562e-583d-4133-dc89-25143816fad6",
        "colab": {
          "base_uri": "https://localhost:8080/",
          "height": 166
        }
      },
      "source": [
        "dados.query(\"NU_IDADE == 13\")[[\"NU_IDADE\",\"SG_UF_RESIDENCIA\"]]"
      ],
      "execution_count": 152,
      "outputs": [
        {
          "output_type": "execute_result",
          "data": {
            "text/html": [
              "<div>\n",
              "<style scoped>\n",
              "    .dataframe tbody tr th:only-of-type {\n",
              "        vertical-align: middle;\n",
              "    }\n",
              "\n",
              "    .dataframe tbody tr th {\n",
              "        vertical-align: top;\n",
              "    }\n",
              "\n",
              "    .dataframe thead th {\n",
              "        text-align: right;\n",
              "    }\n",
              "</style>\n",
              "<table border=\"1\" class=\"dataframe\">\n",
              "  <thead>\n",
              "    <tr style=\"text-align: right;\">\n",
              "      <th></th>\n",
              "      <th>NU_IDADE</th>\n",
              "      <th>SG_UF_RESIDENCIA</th>\n",
              "    </tr>\n",
              "  </thead>\n",
              "  <tbody>\n",
              "    <tr>\n",
              "      <th>57359</th>\n",
              "      <td>13</td>\n",
              "      <td>SP</td>\n",
              "    </tr>\n",
              "    <tr>\n",
              "      <th>95630</th>\n",
              "      <td>13</td>\n",
              "      <td>MT</td>\n",
              "    </tr>\n",
              "    <tr>\n",
              "      <th>98197</th>\n",
              "      <td>13</td>\n",
              "      <td>AP</td>\n",
              "    </tr>\n",
              "    <tr>\n",
              "      <th>116501</th>\n",
              "      <td>13</td>\n",
              "      <td>BA</td>\n",
              "    </tr>\n",
              "  </tbody>\n",
              "</table>\n",
              "</div>"
            ],
            "text/plain": [
              "        NU_IDADE SG_UF_RESIDENCIA\n",
              "57359         13               SP\n",
              "95630         13               MT\n",
              "98197         13               AP\n",
              "116501        13               BA"
            ]
          },
          "metadata": {
            "tags": []
          },
          "execution_count": 152
        }
      ]
    },
    {
      "cell_type": "markdown",
      "metadata": {
        "id": "R_AllTqBV17C"
      },
      "source": [
        "## Desafio 03: Adicionar título no histograma:"
      ]
    },
    {
      "cell_type": "code",
      "metadata": {
        "id": "bMRHCuj45kU9",
        "outputId": "89fe615f-c534-4645-c359-6e52037cf8ac",
        "colab": {
          "base_uri": "https://localhost:8080/",
          "height": 298
        }
      },
      "source": [
        "dados[\"NU_IDADE\"].plot.hist(bins=20, figsize=(8,4))\n",
        "plt.grid(True)\n",
        "plt.title(\"Distribuição da frequência das idades\")"
      ],
      "execution_count": 153,
      "outputs": [
        {
          "output_type": "execute_result",
          "data": {
            "text/plain": [
              "Text(0.5, 1.0, 'Distribuição da frequência das idades')"
            ]
          },
          "metadata": {
            "tags": []
          },
          "execution_count": 153
        },
        {
          "output_type": "display_data",
          "data": {
            "image/png": "[encoded data removed]",
            "text/plain": [
              "<Figure size 576x288 with 1 Axes>"
            ]
          },
          "metadata": {
            "tags": [],
            "needs_background": "light"
          }
        }
      ]
    },
    {
      "cell_type": "markdown",
      "metadata": {
        "id": "ZV2wt5N-dkXc"
      },
      "source": [
        "## Desafio 04: Plotar Histogramas das idades dos treineiros e não treineiros"
      ]
    },
    {
      "cell_type": "code",
      "metadata": {
        "id": "kpN8peIFWVyv",
        "outputId": "708c3009-6e63-4c03-e0af-4334ed35938d",
        "colab": {
          "base_uri": "https://localhost:8080/",
          "height": 312
        }
      },
      "source": [
        "dados.query(\"IN_TREINEIRO==1\")[\"NU_IDADE\"].hist(bins = 30, figsize = (8,4), alpha=0.5)\n",
        "dados.query(\"IN_TREINEIRO==0\")[\"NU_IDADE\"].hist(bins = 30, alpha=0.2)\n",
        "plt.grid(None)\n",
        "plt.legend(['treineiros', 'não treineiros'])\n",
        "plt.title(\"Distribuição: treineiros x não treineiros\")\n",
        "plt.xlabel(\"Idades dos alunos\")\n",
        "plt.ylabel(\"Frequência\")"
      ],
      "execution_count": 154,
      "outputs": [
        {
          "output_type": "execute_result",
          "data": {
            "text/plain": [
              "Text(0, 0.5, 'Frequência')"
            ]
          },
          "metadata": {
            "tags": []
          },
          "execution_count": 154
        },
        {
          "output_type": "display_data",
          "data": {
            "image/png": "[encoded data removed]",
            "text/plain": [
              "<Figure size 576x288 with 1 Axes>"
            ]
          },
          "metadata": {
            "tags": [],
            "needs_background": "light"
          }
        }
      ]
    },
    {
      "cell_type": "markdown",
      "metadata": {
        "id": "uND4secJ56NI"
      },
      "source": [
        "\n",
        "\n",
        "---\n",
        "\n"
      ]
    },
    {
      "cell_type": "markdown",
      "metadata": {
        "id": "zJhWVazZ54gj"
      },
      "source": [
        "# *Resposta à Aula 1: post no Discord*"
      ]
    },
    {
      "cell_type": "code",
      "metadata": {
        "id": "rmN1yQR9zZpH"
      },
      "source": [
        "#Então Vamos Lá!!!\n",
        "#Respostas da AULA 01\n",
        "#Desafio 1:\n",
        "qnt_tt_dados=len(dados[\"NU_IDADE\"]) #Isso geral um número total de linhas\n",
        "col_idade_qnt=dados[\"NU_IDADE\"].value_counts() #Isso gera uma coluna/série. O index será a idade.\n",
        "perc=col_idade_qnt / qnt_tt_dados #Isso gera o percentual\n",
        "perc\n",
        "\n",
        "#Desafio 2:\n",
        "dados.query(\"NU_IDADE == 13\")[[\"NU_IDADE\",\"SG_UF_RESIDENCIA\"]]\n",
        "\n",
        "#Desafio 3:\n",
        "dados[\"NU_IDADE\"].plot.hist(bins=20, figsize=(8,4))\n",
        "plt.grid(True)\n",
        "plt.title(\"Distribuição da frequência das idades\")\n",
        "\n",
        "#Desafio 4:\n",
        "dados.query(\"IN_TREINEIRO==1\")[\"NU_IDADE\"].hist(bins = 30, figsize = (8,4), alpha=0.5)\n",
        "dados.query(\"IN_TREINEIRO==0\")[\"NU_IDADE\"].hist(bins = 30, alpha=0.2)\n",
        "plt.grid(None)\n",
        "plt.legend(['treineiros', 'não treineiros'])\n",
        "plt.title(\"Distribuição: treineiros x não treineiros\")\n",
        "plt.xlabel(\"Idades dos alunos\")\n",
        "plt.ylabel(\"Frequência\")\n"
      ],
      "execution_count": null,
      "outputs": []
    },
    {
      "cell_type": "markdown",
      "metadata": {
        "id": "fJkboQWLAGKt"
      },
      "source": [
        "# Rascunhos"
      ]
    },
    {
      "cell_type": "code",
      "metadata": {
        "id": "IsfdaLivAKYk"
      },
      "source": [
        ""
      ],
      "execution_count": null,
      "outputs": []
    }
  ]
}